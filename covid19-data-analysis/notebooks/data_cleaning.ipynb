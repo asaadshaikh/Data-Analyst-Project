{
 "cells": [
  {
   "cell_type": "markdown",
   "metadata": {},
   "source": [
    "# Data Cleaning\n",
    "\n",
    "In this notebook, we will focus on cleaning the COVID-19 dataset to prepare it for analysis. This includes handling missing values, standardizing date formats, and ensuring the data is in a suitable format for further analysis."
   ]
  },
  {
   "cell_type": "code",
   "execution_count": 1,
   "metadata": {},
   "outputs": [],
   "source": [
    "import pandas as pd\n",
    "\n",
    "# Load the dataset\n",
    "data = pd.read_csv('../data/covid19_data.csv')\n",
    "\n",
    "# Display the first few rows of the dataset\n",
    "data.head()"
   ]
  },
  {
   "cell_type": "code",
   "execution_count": 2,
   "metadata": {},
   "outputs": [],
   "source": [
    "# Check for missing values\n",
    "missing_values = data.isnull().sum()\n",
    "missing_values[missing_values > 0]"
   ]
  },
  {
   "cell_type": "code",
   "execution_count": 3,
   "metadata": {},
   "outputs": [],
   "source": [
    "# Handle missing values\n",
    "# For simplicity, we will drop rows with missing values\n",
    "data_cleaned = data.dropna()\n",
    "\n",
    "# Alternatively, you could use imputation methods depending on the context\n",
    "# data['column_name'].fillna(value, inplace=True)\n",
    "\n",
    "# Display the shape of the cleaned dataset\n",
    "data_cleaned.shape"
   ]
  },
  {
   "cell_type": "code",
   "execution_count": 4,
   "metadata": {},
   "outputs": [],
   "source": [
    "# Standardize date formats\n",
    "data_cleaned['date'] = pd.to_datetime(data_cleaned['date'])\n",
    "\n",
    "# Verify the date format\n",
    "data_cleaned['date'].head()"
   ]
  },
  {
   "cell_type": "code",
   "execution_count": 5,
   "metadata": {},
   "outputs": [],
   "source": [
    "# Save the cleaned dataset for further analysis\n",
    "data_cleaned.to_csv('../data/covid19_data_cleaned.csv', index=False)\n",
    "\n",
    "# Display a message indicating that the cleaning process is complete\n",
    "print('Data cleaning complete. Cleaned data saved as covid19_data_cleaned.csv.')"
   ]
  }
 ],
 "metadata": {
  "kernelspec": {
   "display_name": "Python 3",
   "language": "python",
   "name": "python3"
  },
  "language_info": {
   "codemirror_mode": {
    "name": "ipython",
    "version": 3
   },
   "file_extension": ".py",
   "mimetype": "text/x-python",
   "name": "python",
   "nbconvert_exporter": "python",
   "pygments_lexer": "ipython3",
   "version": "3.8.5"
  }
 },
 "nbformat": 4,
 "nbformat_minor": 4
}