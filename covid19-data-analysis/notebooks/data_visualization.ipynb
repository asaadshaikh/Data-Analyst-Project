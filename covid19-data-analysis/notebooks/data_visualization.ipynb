{
 "cells": [
  {
   "cell_type": "markdown",
   "metadata": {},
   "source": [
    "# COVID-19 Data Visualization\n",
    "\n",
    "This notebook is dedicated to visualizing COVID-19 data using various charts and graphs. We will create line charts, bar charts, heatmaps, and pie charts to gain insights into the trends and patterns of the pandemic."
   ]
  },
  {
   "cell_type": "code",
   "execution_count": 1,
   "metadata": {},
   "outputs": [],
   "source": [
    "import pandas as pd\n",
    "import matplotlib.pyplot as plt\n",
    "import seaborn as sns\n",
    "\n",
    "# Load the dataset\n",
    "data = pd.read_csv('../data/covid19_data.csv')\n",
    "data['date'] = pd.to_datetime(data['date'])  # Ensure date is in datetime format\n",
    "\n",
    "# Display the first few rows of the dataset\n",
    "data.head()"
   ]
  },
  {
   "cell_type": "code",
   "execution_count": 2,
   "metadata": {},
   "outputs": [],
   "source": [
    "# Line Chart: Daily Cases, Deaths, and Recoveries Over Time\n",
    "plt.figure(figsize=(14, 7))\n",
    "sns.lineplot(data=data, x='date', y='daily_cases', label='Daily Cases')\n",
    "sns.lineplot(data=data, x='date', y='daily_deaths', label='Daily Deaths')\n",
    "sns.lineplot(data=data, x='date', y='daily_recoveries', label='Daily Recoveries')\n",
    "plt.title('Daily COVID-19 Cases, Deaths, and Recoveries Over Time')\n",
    "plt.xlabel('Date')\n",
    "plt.ylabel('Count')\n",
    "plt.legend()\n",
    "plt.xticks(rotation=45)\n",
    "plt.tight_layout()\n",
    "plt.show()"
   ]
  },
  {
   "cell_type": "code",
   "execution_count": 3,
   "metadata": {},
   "outputs": [],
   "source": [
    "# Bar Chart: Total Cases, Deaths, and Recoveries by Region\n",
    "plt.figure(figsize=(12, 6))\n",
    "data_grouped = data.groupby('region').sum().reset_index()\n",
    "bar_width = 0.25\n",
    "x = range(len(data_grouped))\n",
    "plt.bar(x, data_grouped['total_cases'], width=bar_width, label='Total Cases')\n",
    "plt.bar([p + bar_width for p in x], data_grouped['total_deaths'], width=bar_width, label='Total Deaths')\n",
    "plt.bar([p + bar_width*2 for p in x], data_grouped['total_recoveries'], width=bar_width, label='Total Recoveries')\n",
    "plt.title('Total COVID-19 Cases, Deaths, and Recoveries by Region')\n",
    "plt.xlabel('Region')\n",
    "plt.ylabel('Count')\n",
    "plt.xticks([p + bar_width for p in x], data_grouped['region'], rotation=45)\n",
    "plt.legend()\n",
    "plt.tight_layout()\n",
    "plt.show()"
   ]
  },
  {
   "cell_type": "code",
   "execution_count": 4,
   "metadata": {},
   "outputs": [],
   "source": [
    "# Heatmap: COVID-19 Cases by Region and Date\n",
    "pivot_data = data.pivot('date', 'region', 'total_cases')\n",
    "plt.figure(figsize=(14, 8))\n",
    "sns.heatmap(pivot_data, cmap='YlGnBu', annot=False)\n",
    "plt.title('Heatmap of COVID-19 Cases by Region and Date')\n",
    "plt.xlabel('Region')\n",
    "plt.ylabel('Date')\n",
    "plt.xticks(rotation=45)\n",
    "plt.tight_layout()\n",
    "plt.show()"
   ]
  },
  {
   "cell_type": "code",
   "execution_count": 5,
   "metadata": {},
   "outputs": [],
   "source": [
    "# Pie Chart: Distribution of Cases, Deaths, and Recoveries\n",
    "total_cases = data['total_cases'].sum()\n",
    "total_deaths = data['total_deaths'].sum()\n",
    "total_recoveries = data['total_recoveries'].sum()\n",
    "labels = ['Cases', 'Deaths', 'Recoveries']\n",
    "sizes = [total_cases, total_deaths, total_recoveries]\n",
    "colors = ['#ff9999','#66b3ff','#99ff99']\n",
    "plt.figure(figsize=(8, 8))\n",
    "plt.pie(sizes, labels=labels, colors=colors, autopct='%1.1f%%', startangle=140)\n",
    "plt.title('Distribution of COVID-19 Cases, Deaths, and Recoveries')\n",
    "plt.axis('equal')  # Equal aspect ratio ensures that pie is drawn as a circle.\n",
    "plt.show()"
   ]
  }
 ],
 "metadata": {
  "kernelspec": {
   "display_name": "Python 3",
   "language": "python",
   "name": "python3"
  },
  "language_info": {
   "codemirror_mode": {
    "name": "ipython",
    "version": 3
   },
   "file_extension": ".py",
   "mimetype": "text/x-python",
   "name": "python",
   "nbconvert_exporter": "python",
   "pygments_lexer": "ipython3",
   "version": "3.8.5"
  }
 },
 "nbformat": 4,
 "nbformat_minor": 4
}