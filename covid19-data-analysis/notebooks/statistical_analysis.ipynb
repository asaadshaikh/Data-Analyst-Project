{
 "cells": [
  {
   "cell_type": "markdown",
   "metadata": {},
   "source": [
    "# Statistical Analysis of COVID-19 Data\n",
    "\n",
    "This notebook performs statistical analysis on the COVID-19 dataset, including correlation analysis and calculations of growth rates and doubling times."
   ]
  },
  {
   "cell_type": "code",
   "execution_count": null,
   "metadata": {
    "collapsed": false
   },
   "outputs": [],
   "source": [
    "import pandas as pd\n",
    "import numpy as np\n",
    "import seaborn as sns\n",
    "import matplotlib.pyplot as plt\n",
    "\n",
    "# Load the dataset\n",
    "data = pd.read_csv('../data/covid19_data.csv')\n",
    " \n",
    "# Display the first few rows of the dataset\n",
    "data.head()\n",
    "\n",
    "# Display the last few rows of the dataset\n",
    "data.tail()\n",
    "\n",
    "# Display the shape of the dataset\n",
    "data.shape\n",
    "\n",
    "# Display the columns of the dataset\n",
    "data.columns"
   ]
  },
  {
   "cell_type": "code",
   "execution_count": null,
   "metadata": {
    "collapsed": false
   },
   "outputs": [],
   "source": [
    "# Correlation Analysis\n",
    "correlation_matrix = data.corr()\n",
    "\n",
    "# Display the correlation matrix\n",
    "plt.figure(figsize=(10, 8))\n",
    "sns.heatmap(correlation_matrix, annot=True, fmt='.2f', cmap='coolwarm')\n",
    "plt.title('Correlation Matrix of COVID-19 Data')\n",
    "plt.show()"
   ]
  },
  {
   "cell_type": "code",
   "execution_count": null,
   "metadata": {
    "collapsed": false
   },
   "outputs": [],
   "source": [
    "# Growth Rate Calculation\n",
    "data['growth_rate'] = data['new_cases'].pct_change() * 100\n",
    "\n",
    "# Display the growth rate\n",
    "plt.figure(figsize=(12, 6))\n",
    "plt.plot(data['date'], data['growth_rate'], marker='o')\n",
    "plt.title('COVID-19 Growth Rate Over Time')\n",
    "plt.xlabel('Date')\n",
    "plt.ylabel('Growth Rate (%)')\n",
    "plt.xticks(rotation=45)\n",
    "plt.grid()\n",
    "plt.show()"
   ]
  },
  {
   "cell_type": "code",
   "execution_count": null,
   "metadata": {
    "collapsed": false
   },
   "outputs": [],
   "source": [
    "# Doubling Time Calculation\n",
    "def doubling_time(cases):\n",
    "    if cases <= 0:\n",
    "        return np.nan\n",
    "    return np.log(2) / np.log(1 + (cases / (cases - 1)))\n",
    "\n",
    "data['doubling_time'] = data['new_cases'].apply(doubling_time)\n",
    "\n",
    "# Display the doubling time\n",
    "plt.figure(figsize=(12, 6))\n",
    "plt.plot(data['date'], data['doubling_time'], marker='o', color='orange')\n",
    "plt.title('COVID-19 Doubling Time Over Time')\n",
    "plt.xlabel('Date')\n",
    "plt.ylabel('Doubling Time (Days)')\n",
    "plt.xticks(rotation=45)\n",
    "plt.grid()\n",
    "plt.show()"
   ]
  },
  {
   "cell_type": "markdown",
   "metadata": {},
   "source": [
    "## Conclusions\n",
    "\n",
    "In this analysis, we explored the correlation between various COVID-19 metrics, calculated the growth rate of new cases, and determined the doubling time for the spread of the virus. These insights can help in understanding the dynamics of the pandemic and inform public health responses."
   ]
  }
 ],
 "metadata": {
  "kernelspec": {
   "display_name": "Python 3",
   "language": "python",
   "name": "python3"
  },
  "language_info": {
   "codemirror_mode": {
    "name": "ipython",
    "version": 3
   },
   "file_extension": ".py",
   "mimetype": "text/x-python",
   "name": "python",
   "nbconvert_exporter": "python",
   "pygments_lexer": "ipython3",
   "version": "3.8.5"
  }
 },
 "nbformat": 4,
 "nbformat_minor": 4
}
